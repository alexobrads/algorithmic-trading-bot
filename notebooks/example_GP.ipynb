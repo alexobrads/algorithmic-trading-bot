{
 "cells": [
  {
   "cell_type": "code",
   "execution_count": null,
   "metadata": {},
   "outputs": [],
   "source": [
    "# Import the necessary libraries\n",
    "import math\n",
    "from matplotlib import pyplot as plt\n",
    "import torch\n",
    "import gpytorch\n",
    "import numpy as np\n",
    "import plotly\n",
    "import plotly.graph_objects as go\n",
    "import plotly.express as px\n",
    "import pandas as pd\n",
    "import pandas_ta as ta\n",
    "import mplfinance as mpf\n",
    "from sklearn.preprocessing import MinMaxScaler\n",
    "import torch\n",
    "import torch.nn as nn\n",
    "import torch.nn.functional as F\n",
    "from torch.utils.data import TensorDataset, DataLoader\n",
    "from torch import optim\n",
    "from plotly.subplots import make_subplots\n",
    "\n",
    "from algrow import Algrow, TrainingData"
   ]
  },
  {
   "cell_type": "code",
   "execution_count": null,
   "metadata": {},
   "outputs": [],
   "source": [
    "eth = TrainingData(symbol=\"ETHAUD\", bar=\"1h\", start_time=\"January 01, 2021\")\n",
    "eth.get_data()"
   ]
  },
  {
   "cell_type": "code",
   "execution_count": null,
   "metadata": {},
   "outputs": [],
   "source": [
    "# A GP model with constant mean function and spectral mixture (SM) kernel\n",
    "class SpectralMixtureGP(gpytorch.models.ExactGP):\n",
    "    def __init__(self, x_train, y_train, likelihood):\n",
    "        super(SpectralMixtureGP, self).__init__(x_train, y_train, likelihood)\n",
    "        self.mean = gpytorch.means.ConstantMean() # Construct the mean function\n",
    "        self.cov = gpytorch.kernels.SpectralMixtureKernel(num_mixtures=6) # Construct the kernel function\n",
    "        self.cov.initialize_from_data(x_train, y_train) # Initialize the hyperparameters from data\n",
    "        \n",
    "    def forward(self, x):\n",
    "        # Evaluate the mean and kernel function at x\n",
    "        mean_x = self.mean(x)\n",
    "        cov_x = self.cov(x)\n",
    "        # Return the multivariate normal distribution using the evaluated mean and kernel function\n",
    "        return gpytorch.distributions.MultivariateNormal(mean_x, cov_x) \n",
    "    "
   ]
  },
  {
   "cell_type": "code",
   "execution_count": null,
   "metadata": {},
   "outputs": [],
   "source": [
    "# Indicators\n",
    "\n",
    "# Predictive feature\n",
    "pred_sma = 6\n",
    "\n",
    "indicators = ta.Strategy(\n",
    "    name=\"Momo and Volatility\",\n",
    "    description=\"Feature\",\n",
    "    ta=[\n",
    "        {\"kind\": \"sma\", \"length\": pred_sma}\n",
    "        ]\n",
    "    )\n",
    "\n",
    "eth.add_indicators(indicators)"
   ]
  },
  {
   "cell_type": "code",
   "execution_count": null,
   "metadata": {},
   "outputs": [],
   "source": [
    "eth_features = ((eth.data[['SMA_6']]-eth.data[['SMA_6']].shift(+3))/eth.data[['SMA_6']].shift(+3))*100\n",
    "eth.data.dropna(inplace=True)"
   ]
  },
  {
   "cell_type": "code",
   "execution_count": null,
   "metadata": {},
   "outputs": [],
   "source": [
    "eth_sc = MinMaxScaler(feature_range=(0,1))\n",
    "eth_scaled_features = eth_sc.fit_transform(eth_features)[:,0]\n",
    "print(np.shape(eth_scaled_features))"
   ]
  },
  {
   "cell_type": "code",
   "execution_count": null,
   "metadata": {},
   "outputs": [],
   "source": [
    "fig = make_subplots(rows=2, cols=1, shared_xaxes=True, vertical_spacing = 0.01, row_heights=[0.7, 0.3])\n",
    "\n",
    "bars = 750\n",
    "\n",
    "# CANDLE STICK CHART\n",
    "fig.add_trace(go.Candlestick(x=eth.data['closetime'][-bars:],\n",
    "                open=eth.data['open'][-bars:],\n",
    "                high=eth.data['high'][-bars:],\n",
    "                low=eth.data['low'][-bars:],\n",
    "                close=eth.data['close'][-bars:]), row=1, col=1)\n",
    "\n",
    "# MOVING AVERAGES\n",
    "fig.add_trace(go.Scatter(x=eth.data['closetime'][-bars:],\n",
    "                         y=eth.data['SMA_6'][-bars:],\n",
    "                         opacity=0.7,\n",
    "                         line=dict(width=2),\n",
    "                         name='SMA_3'), row=1, col=1)\n",
    "\n",
    "\n",
    "# MOVING AVERAGES\n",
    "fig.add_trace(go.Scatter(x=eth.data['closetime'][-bars:],\n",
    "                         y=eth_scaled_features[-bars:],\n",
    "                         opacity=0.7,\n",
    "                         line=dict(width=2),\n",
    "                         name='pred_feature'), row=2, col=1)\n",
    "\n",
    "fig.update_layout(xaxis_rangeslider_visible=False)\n",
    "fig.update_layout(height=700, width=850, title_text=\"Input Features\")\n",
    "fig.show()\n"
   ]
  },
  {
   "cell_type": "code",
   "execution_count": null,
   "metadata": {},
   "outputs": [],
   "source": [
    "# The training data is 15 equally-spaced points from [0,1] \n",
    "x_train_full = torch.linspace(0, eth_scaled_features.size, eth_scaled_features.size)\n",
    "x_train = torch.linspace(0, eth_scaled_features.size, eth_scaled_features.size)[-2000:-200]\n",
    "\n",
    "# The true function is sin(2*pi*x) with Gaussian noise N(0, 0.04)\n",
    "y_train_full = torch.tensor(eth_scaled_features).to(torch.float32)\n",
    "y_train = torch.tensor(eth_scaled_features).to(torch.float32)[-2000:-200]\n"
   ]
  },
  {
   "cell_type": "code",
   "execution_count": null,
   "metadata": {},
   "outputs": [],
   "source": [
    "fig = make_subplots(rows=1, cols=1, shared_xaxes=True, vertical_spacing = 0.01)\n",
    "\n",
    "# MOVING AVERAGES\n",
    "fig.add_trace(go.Scatter(x=x_train,\n",
    "                         y=y_train,\n",
    "                         opacity=0.7,\n",
    "                         line=dict(width=2),\n",
    "                         name='SMA_3'), row=1, col=1)\n",
    "\n",
    "\n",
    "fig.update_layout(xaxis_rangeslider_visible=False)\n",
    "fig.update_layout(height=700, width=850, title_text=\"Input Features\")\n",
    "fig.show()\n"
   ]
  },
  {
   "cell_type": "code",
   "execution_count": null,
   "metadata": {},
   "outputs": [],
   "source": [
    "# Initialize the likelihood and model\n",
    "likelihood = gpytorch.likelihoods.GaussianLikelihood()\n",
    "model = SpectralMixtureGP(x_train, y_train, likelihood)"
   ]
  },
  {
   "cell_type": "code",
   "execution_count": null,
   "metadata": {},
   "outputs": [],
   "source": [
    "# Put the model into training mode\n",
    "model.train()\n",
    "likelihood.train()\n",
    "\n",
    "# Use the Adam optimizer, with learning rate set to 0.1\n",
    "optimizer = torch.optim.Adam(model.parameters(), lr=0.1)\n",
    "\n",
    "# Use the negative marginal log-likelihood as the loss function\n",
    "mll = gpytorch.mlls.ExactMarginalLogLikelihood(likelihood, model)\n",
    "\n",
    "# Set the number of training iterations\n",
    "n_iter = 500\n",
    "\n",
    "for i in range(n_iter):\n",
    "    # Set the gradients from previous iteration to zero\n",
    "    optimizer.zero_grad()\n",
    "    # Output from model\n",
    "    output = model(x_train)\n",
    "    # Compute loss and backprop gradients\n",
    "    loss = -mll(output, y_train)\n",
    "    loss.backward()\n",
    "    print('Iter %d/%d - Loss: %.3f' % (i + 1, n_iter, loss.item()))\n",
    "    optimizer.step()"
   ]
  },
  {
   "cell_type": "code",
   "execution_count": null,
   "metadata": {},
   "outputs": [],
   "source": [
    "# The test data is 50 equally-spaced points from [0,5]\n",
    "x_test = torch.linspace(17000, 18000, 1000)\n",
    "\n",
    "# Put the model into evaluation mode\n",
    "model.eval()\n",
    "likelihood.eval()\n",
    "\n",
    "# The gpytorch.settings.fast_pred_var flag activates LOVE (for fast variances)\n",
    "# See https://arxiv.org/abs/1803.06058\n",
    "with torch.no_grad(), gpytorch.settings.fast_pred_var():\n",
    "    # Obtain the predictive mean and covariance matrix\n",
    "    f_preds = model(x_test)\n",
    "    f_mean = f_preds.mean\n",
    "    f_cov = f_preds.covariance_matrix\n",
    "    \n",
    "    # Make predictions by feeding model through likelihood\n",
    "    observed_pred = likelihood(model(x_test))\n",
    "    lower, upper = observed_pred.confidence_region()\n",
    "    \n",
    "\n",
    "\n",
    "\n",
    "fig = make_subplots(rows=1, cols=1, shared_xaxes=True, vertical_spacing = 0.01)\n",
    "\n",
    "fig.add_trace(go.Scatter(x = x_train_full.numpy(),\n",
    "                         y = y_train_full.numpy(),\n",
    "                         line_color = 'blue',\n",
    "                         line = {'dash': 'dash'},\n",
    "                         name = 'truth',\n",
    "                         opacity = 0.7),\n",
    "              row = 1, col = 1)\n",
    "\n",
    "fig.add_trace(go.Scatter(x = x_train.numpy(),\n",
    "                         y = y_train.numpy(),\n",
    "                         line_color = 'black',\n",
    "                         line=dict(width=2),\n",
    "                         name = 'truth',\n",
    "                         opacity = 0.7),\n",
    "              row = 1, col = 1)\n",
    "\n",
    "\n",
    "# Lower Bound fill in between with parameter 'fill': 'tonexty'\n",
    "\n",
    "fig.add_trace(go.Scatter(x = x_test.numpy(),\n",
    "                         y = upper.numpy(),\n",
    "                         line_color = 'gray',\n",
    "                         line = {'dash': 'dash'},\n",
    "                         name = 'upper',\n",
    "                         opacity = 0.5),\n",
    "              row = 1, col = 1)\n",
    "\n",
    "fig.add_trace(go.Scatter(x = x_test.numpy(),\n",
    "                         y = lower.numpy(),\n",
    "                         line_color = 'gray',\n",
    "                         line = {'dash': 'dash'},\n",
    "                         fill = 'tonexty',\n",
    "                         fillcolor='rgba(150,26,65,0.1)',\n",
    "                         name = 'lower',\n",
    "                         opacity = 0.2),\n",
    "              row = 1, col = 1)\n",
    "\n",
    "\n",
    "fig.add_trace(go.Scatter(x = x_test.numpy(),\n",
    "                         y = observed_pred.mean.numpy(),\n",
    "                         line_color = 'red',\n",
    "                         line=dict(width=2),\n",
    "                         name = 'prediction',\n",
    "                         opacity = 0.5),\n",
    "              row = 1, col = 1)\n",
    "\n",
    "\n",
    "fig.update_layout(xaxis_rangeslider_visible=False)\n",
    "fig.update_layout(height=700, width=850, title_text=\"Input Features\")\n",
    "fig.show()\n"
   ]
  },
  {
   "cell_type": "code",
   "execution_count": null,
   "metadata": {},
   "outputs": [],
   "source": []
  },
  {
   "cell_type": "code",
   "execution_count": null,
   "metadata": {},
   "outputs": [],
   "source": []
  }
 ],
 "metadata": {
  "kernelspec": {
   "display_name": "Python 3 (ipykernel)",
   "language": "python",
   "name": "python3"
  },
  "language_info": {
   "codemirror_mode": {
    "name": "ipython",
    "version": 3
   },
   "file_extension": ".py",
   "mimetype": "text/x-python",
   "name": "python",
   "nbconvert_exporter": "python",
   "pygments_lexer": "ipython3",
   "version": "3.9.19"
  },
  "vscode": {
   "interpreter": {
    "hash": "36d6ea7187b94b57cac1f64f9780a54bef143ea6fbd471748fa3089fef9c7fdc"
   }
  }
 },
 "nbformat": 4,
 "nbformat_minor": 4
}
